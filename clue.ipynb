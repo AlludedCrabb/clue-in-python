{
 "cells": [
  {
   "cell_type": "markdown",
   "metadata": {},
   "source": [
    "Let's start by making the lists of the different clues"
   ]
  },
  {
   "cell_type": "code",
   "execution_count": 79,
   "metadata": {},
   "outputs": [],
   "source": [
    "suspects = [\"Colonel Mustard\", \"Profesor Plum\", \"Mr. Green\", \"Mrs. Peacock\", \"Miss Scarlet\", \"Mrs. White\"]\n",
    "weapons = [\"Knife\", \"Candlestick\", \"Revolver\", \"Rope\", \"Lead Pipe\", \"Wrench\"]\n",
    "rooms = \"Hall Lounge Dining_Room Kitchen Ballroom Conservatory Billiard_Room Library Study\".split()"
   ]
  },
  {
   "cell_type": "code",
   "execution_count": 80,
   "metadata": {},
   "outputs": [],
   "source": [
    "suspects, weapons, rooms =  ([x.lower() for x in suspects]\n",
    "                            ,[x.lower() for x in weapons]\n",
    "                            ,[x.lower() for x in rooms])\n"
   ]
  },
  {
   "cell_type": "markdown",
   "metadata": {},
   "source": [
    "Now we need to select one from each list to create our murder situation"
   ]
  },
  {
   "cell_type": "code",
   "execution_count": 81,
   "metadata": {},
   "outputs": [],
   "source": [
    "import numpy as np"
   ]
  },
  {
   "cell_type": "code",
   "execution_count": 82,
   "metadata": {},
   "outputs": [],
   "source": [
    "nch = np.random.choice\n",
    "murder_sitch = [nch(suspects), nch(weapons), nch(rooms)]"
   ]
  },
  {
   "cell_type": "code",
   "execution_count": 83,
   "metadata": {},
   "outputs": [
    {
     "data": {
      "text/plain": [
       "{'lead pipe', 'mrs. white', 'study'}"
      ]
     },
     "execution_count": 83,
     "metadata": {},
     "output_type": "execute_result"
    }
   ],
   "source": [
    "murder_sitch = set(murder_sitch)\n",
    "murder_sitch"
   ]
  },
  {
   "cell_type": "markdown",
   "metadata": {},
   "source": [
    "Ok, now we need to remove the incriminating cards from the available clues"
   ]
  },
  {
   "cell_type": "code",
   "execution_count": 84,
   "metadata": {},
   "outputs": [],
   "source": [
    "suspects = set(suspects)\n",
    "weapons = set(weapons)\n",
    "rooms = set(rooms)"
   ]
  },
  {
   "cell_type": "code",
   "execution_count": 85,
   "metadata": {},
   "outputs": [],
   "source": [
    "suspects -= murder_sitch\n",
    "weapons -= murder_sitch\n",
    "rooms -= murder_sitch"
   ]
  },
  {
   "cell_type": "markdown",
   "metadata": {},
   "source": [
    "Now we need to make 6 players and give them cards"
   ]
  },
  {
   "cell_type": "code",
   "execution_count": 86,
   "metadata": {},
   "outputs": [
    {
     "data": {
      "text/plain": [
       "18"
      ]
     },
     "execution_count": 86,
     "metadata": {},
     "output_type": "execute_result"
    }
   ],
   "source": [
    "clue_cards = list(suspects | weapons |rooms)\n",
    "len(clue_cards)"
   ]
  },
  {
   "cell_type": "code",
   "execution_count": 87,
   "metadata": {},
   "outputs": [],
   "source": [
    "p1_cards = set(nch(clue_cards, size=3, replace=False))\n",
    "clue_cards = set(clue_cards)\n",
    "clue_cards -= p1_cards"
   ]
  },
  {
   "cell_type": "code",
   "execution_count": 88,
   "metadata": {},
   "outputs": [],
   "source": [
    "clue_cards = list(clue_cards)\n",
    "p2_cards = set(nch(clue_cards, size=3, replace=False))\n",
    "clue_cards = set(clue_cards)\n",
    "clue_cards -= p2_cards"
   ]
  },
  {
   "cell_type": "code",
   "execution_count": 89,
   "metadata": {},
   "outputs": [],
   "source": [
    "clue_cards = list(clue_cards)\n",
    "p3_cards = set(nch(clue_cards, size=3, replace=False))\n",
    "clue_cards = set(clue_cards)\n",
    "clue_cards -= p3_cards"
   ]
  },
  {
   "cell_type": "code",
   "execution_count": 90,
   "metadata": {},
   "outputs": [],
   "source": [
    "clue_cards = list(clue_cards)\n",
    "p4_cards = set(nch(clue_cards, size=3, replace=False))\n",
    "clue_cards = set(clue_cards)\n",
    "clue_cards -= p4_cards"
   ]
  },
  {
   "cell_type": "code",
   "execution_count": 91,
   "metadata": {},
   "outputs": [],
   "source": [
    "clue_cards = list(clue_cards)\n",
    "p5_cards = set(nch(clue_cards, size=3, replace = False))\n",
    "clue_cards = set(clue_cards)\n",
    "clue_cards -= p5_cards"
   ]
  },
  {
   "cell_type": "code",
   "execution_count": 92,
   "metadata": {},
   "outputs": [],
   "source": [
    "clue_cards = list(clue_cards)\n",
    "p6_cards = set(clue_cards)\n",
    "clue_cards = None"
   ]
  },
  {
   "cell_type": "code",
   "execution_count": 93,
   "metadata": {},
   "outputs": [],
   "source": [
    "clue_cards"
   ]
  },
  {
   "cell_type": "code",
   "execution_count": 94,
   "metadata": {},
   "outputs": [
    {
     "data": {
      "text/plain": [
       "({'hall', 'knife', 'library'},\n",
       " {'billiard_room', 'conservatory', 'revolver'},\n",
       " {'candlestick', 'mrs. peacock', 'wrench'},\n",
       " {'ballroom', 'dining_room', 'mr. green'},\n",
       " {'colonel mustard', 'lounge', 'rope'},\n",
       " {'kitchen', 'miss scarlet', 'profesor plum'})"
      ]
     },
     "execution_count": 94,
     "metadata": {},
     "output_type": "execute_result"
    }
   ],
   "source": [
    "p1_cards,p2_cards,p3_cards,p4_cards,p5_cards,p6_cards"
   ]
  },
  {
   "cell_type": "markdown",
   "metadata": {},
   "source": [
    "Next we need to build a way to guess cards and see who has what clues. the user should be able to type in a room, suspect, and weapon, and then have those seqeuntially checked against the draws of the other players."
   ]
  },
  {
   "cell_type": "markdown",
   "metadata": {},
   "source": [
    "You are player 1"
   ]
  },
  {
   "cell_type": "code",
   "execution_count": 110,
   "metadata": {},
   "outputs": [],
   "source": [
    "def make_guess():\n",
    "    suspect_guess = input(prompt=\"guess a suspect \").lower()\n",
    "    weapon_guess = input(prompt=\"guess a weapon \").lower()\n",
    "    room_guess = input(prompt=\"guess a room \").lower()\n",
    "    \n",
    "    if (suspect_guess in suspects and \n",
    "        weapon_guess  in weapons  and\n",
    "        room_guess    in rooms):\n",
    "        \n",
    "        p1_guess = set([suspect_guess, weapon_guess, room_guess])\n",
    "        \n",
    "        for ind_cards in [p2_cards,p3_cards,p4_cards,p5_cards,p6_cards]:\n",
    "            if len(p1_guess & ind_cards) > 0:\n",
    "                print(nch(list(p1_guess & ind_cards)))\n",
    "                break"
   ]
  },
  {
   "cell_type": "code",
   "execution_count": 112,
   "metadata": {},
   "outputs": [
    {
     "name": "stdout",
     "output_type": "stream",
     "text": [
      "guess a suspect colonel mustard\n",
      "guess a weapon knife\n",
      "guess a room conservatory\n",
      "conservatory\n"
     ]
    }
   ],
   "source": [
    "make_guess()"
   ]
  },
  {
   "cell_type": "code",
   "execution_count": 98,
   "metadata": {},
   "outputs": [
    {
     "data": {
      "text/plain": [
       "{'hall', 'knife', 'library'}"
      ]
     },
     "execution_count": 98,
     "metadata": {},
     "output_type": "execute_result"
    }
   ],
   "source": [
    "p1_cards"
   ]
  },
  {
   "cell_type": "code",
   "execution_count": 108,
   "metadata": {},
   "outputs": [
    {
     "data": {
      "text/plain": [
       "{'billiard_room', 'conservatory', 'revolver'}"
      ]
     },
     "execution_count": 108,
     "metadata": {},
     "output_type": "execute_result"
    }
   ],
   "source": [
    "p2_cards"
   ]
  },
  {
   "cell_type": "code",
   "execution_count": 109,
   "metadata": {},
   "outputs": [
    {
     "data": {
      "text/plain": [
       "{'candlestick', 'mrs. peacock', 'wrench'}"
      ]
     },
     "execution_count": 109,
     "metadata": {},
     "output_type": "execute_result"
    }
   ],
   "source": [
    "p3_cards"
   ]
  },
  {
   "cell_type": "code",
   "execution_count": null,
   "metadata": {},
   "outputs": [],
   "source": []
  }
 ],
 "metadata": {
  "kernelspec": {
   "display_name": "Python 3",
   "language": "python",
   "name": "python3"
  },
  "language_info": {
   "codemirror_mode": {
    "name": "ipython",
    "version": 3
   },
   "file_extension": ".py",
   "mimetype": "text/x-python",
   "name": "python",
   "nbconvert_exporter": "python",
   "pygments_lexer": "ipython3",
   "version": "3.6.9"
  }
 },
 "nbformat": 4,
 "nbformat_minor": 2
}
