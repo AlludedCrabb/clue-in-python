{
 "cells": [
  {
   "cell_type": "markdown",
   "metadata": {},
   "source": [
    "Let's start by making the lists of the different clues"
   ]
  },
  {
   "cell_type": "code",
   "execution_count": 3,
   "metadata": {},
   "outputs": [],
   "source": [
    "suspects = [\"Colonel Mustard\", \"Profesor Plum\", \"Mr. Green\", \"Mrs. Peacock\", \"Miss Scarlet\", \"Mrs. White\"]\n",
    "weapons = [\"Knife\", \"Candlestick\", \"Revolver\", \"Rope\", \"Lead Pipe\", \"Wrench\"]\n",
    "rooms = \"Hall Lounge Dining_Room Kitchen Ballroom Conservatory Billiard_Room Library Study\".split()"
   ]
  },
  {
   "cell_type": "code",
   "execution_count": 7,
   "metadata": {},
   "outputs": [
    {
     "data": {
      "text/plain": [
       "(['Colonel Mustard',\n",
       "  'Profesor Plum',\n",
       "  'Mr. Green',\n",
       "  'Mrs. Peacock',\n",
       "  'Miss Scarlet',\n",
       "  'Mrs. White'],\n",
       " ['Knife', 'Candlestick', 'Revolver', 'Rope', 'Lead Pipe', 'Wrench'],\n",
       " ['Hall',\n",
       "  'Lounge',\n",
       "  'Dining_Room',\n",
       "  'Kitchen',\n",
       "  'Ballroom',\n",
       "  'Conservatory',\n",
       "  'Billiard_Room',\n",
       "  'Library',\n",
       "  'Study'])"
      ]
     },
     "execution_count": 7,
     "metadata": {},
     "output_type": "execute_result"
    }
   ],
   "source": [
    "suspects, weapons, rooms"
   ]
  },
  {
   "cell_type": "code",
   "execution_count": null,
   "metadata": {},
   "outputs": [],
   "source": []
  }
 ],
 "metadata": {
  "kernelspec": {
   "display_name": "Python 3",
   "language": "python",
   "name": "python3"
  },
  "language_info": {
   "codemirror_mode": {
    "name": "ipython",
    "version": 3
   },
   "file_extension": ".py",
   "mimetype": "text/x-python",
   "name": "python",
   "nbconvert_exporter": "python",
   "pygments_lexer": "ipython3",
   "version": "3.6.9"
  }
 },
 "nbformat": 4,
 "nbformat_minor": 2
}
