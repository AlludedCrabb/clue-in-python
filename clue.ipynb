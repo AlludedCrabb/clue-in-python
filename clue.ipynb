{
 "cells": [
  {
   "cell_type": "markdown",
   "metadata": {},
   "source": [
    "Let's start by making the lists of the different clues"
   ]
  },
  {
   "cell_type": "code",
   "execution_count": 1,
   "metadata": {},
   "outputs": [],
   "source": [
    "suspects = [\"Colonel Mustard\", \"Profesor Plum\", \"Mr. Green\", \"Mrs. Peacock\", \"Miss Scarlet\", \"Mrs. White\"]\n",
    "weapons = [\"Knife\", \"Candlestick\", \"Revolver\", \"Rope\", \"Lead Pipe\", \"Wrench\"]\n",
    "rooms = \"Hall Lounge Dining_Room Kitchen Ballroom Conservatory Billiard_Room Library Study\".split()"
   ]
  },
  {
   "cell_type": "code",
   "execution_count": 2,
   "metadata": {},
   "outputs": [
    {
     "data": {
      "text/plain": [
       "(['Colonel Mustard',\n",
       "  'Profesor Plum',\n",
       "  'Mr. Green',\n",
       "  'Mrs. Peacock',\n",
       "  'Miss Scarlet',\n",
       "  'Mrs. White'],\n",
       " ['Knife', 'Candlestick', 'Revolver', 'Rope', 'Lead Pipe', 'Wrench'],\n",
       " ['Hall',\n",
       "  'Lounge',\n",
       "  'Dining_Room',\n",
       "  'Kitchen',\n",
       "  'Ballroom',\n",
       "  'Conservatory',\n",
       "  'Billiard_Room',\n",
       "  'Library',\n",
       "  'Study'])"
      ]
     },
     "execution_count": 2,
     "metadata": {},
     "output_type": "execute_result"
    }
   ],
   "source": [
    "suspects, weapons, rooms"
   ]
  },
  {
   "cell_type": "markdown",
   "metadata": {},
   "source": [
    "Now we need to select one from each list to create our murder situation"
   ]
  },
  {
   "cell_type": "code",
   "execution_count": 3,
   "metadata": {},
   "outputs": [],
   "source": [
    "import numpy as np"
   ]
  },
  {
   "cell_type": "code",
   "execution_count": 4,
   "metadata": {},
   "outputs": [],
   "source": [
    "nch = np.random.choice\n",
    "murder_sitch = [nch(suspects), nch(weapons), nch(rooms)]"
   ]
  },
  {
   "cell_type": "code",
   "execution_count": 5,
   "metadata": {},
   "outputs": [
    {
     "data": {
      "text/plain": [
       "{'Candlestick', 'Hall', 'Mrs. White'}"
      ]
     },
     "execution_count": 5,
     "metadata": {},
     "output_type": "execute_result"
    }
   ],
   "source": [
    "murder_sitch = set(murder_sitch)\n",
    "murder_sitch"
   ]
  },
  {
   "cell_type": "markdown",
   "metadata": {},
   "source": [
    "Ok, now we need to remove the incriminating cards from the available clues"
   ]
  },
  {
   "cell_type": "code",
   "execution_count": 6,
   "metadata": {},
   "outputs": [],
   "source": [
    "suspects = set(suspects)\n",
    "weapons = set(weapons)\n",
    "rooms = set(rooms)"
   ]
  },
  {
   "cell_type": "code",
   "execution_count": 7,
   "metadata": {},
   "outputs": [],
   "source": [
    "suspects -= murder_sitch\n",
    "weapons -= murder_sitch\n",
    "rooms -= murder_sitch"
   ]
  },
  {
   "cell_type": "markdown",
   "metadata": {},
   "source": [
    "Now we need to make 6 players and give them cards"
   ]
  },
  {
   "cell_type": "code",
   "execution_count": 8,
   "metadata": {},
   "outputs": [
    {
     "data": {
      "text/plain": [
       "18"
      ]
     },
     "execution_count": 8,
     "metadata": {},
     "output_type": "execute_result"
    }
   ],
   "source": [
    "clue_cards = list(suspects | weapons |rooms)\n",
    "len(clue_cards)"
   ]
  },
  {
   "cell_type": "code",
   "execution_count": 9,
   "metadata": {},
   "outputs": [],
   "source": [
    "p1_cards = set(nch(clue_cards, size=3, replace=False))\n",
    "clue_cards = set(clue_cards)\n",
    "clue_cards -= p1_cards"
   ]
  },
  {
   "cell_type": "code",
   "execution_count": 10,
   "metadata": {},
   "outputs": [],
   "source": [
    "clue_cards = list(clue_cards)\n",
    "p2_cards = set(nch(clue_cards, size=3, replace=False))\n",
    "clue_cards = set(clue_cards)\n",
    "clue_cards -= p2_cards"
   ]
  },
  {
   "cell_type": "code",
   "execution_count": 11,
   "metadata": {},
   "outputs": [],
   "source": [
    "clue_cards = list(clue_cards)\n",
    "p3_cards = set(nch(clue_cards, size=3, replace=False))\n",
    "clue_cards = set(clue_cards)\n",
    "clue_cards -= p3_cards"
   ]
  },
  {
   "cell_type": "code",
   "execution_count": 12,
   "metadata": {},
   "outputs": [],
   "source": [
    "clue_cards = list(clue_cards)\n",
    "p4_cards = set(nch(clue_cards, size=3, replace=False))\n",
    "clue_cards = set(clue_cards)\n",
    "clue_cards -= p4_cards"
   ]
  },
  {
   "cell_type": "code",
   "execution_count": 13,
   "metadata": {},
   "outputs": [],
   "source": [
    "clue_cards = list(clue_cards)\n",
    "p5_cards = set(nch(clue_cards, size=3, replace = False))\n",
    "clue_cards = set(clue_cards)\n",
    "clue_cards -= p5_cards"
   ]
  },
  {
   "cell_type": "code",
   "execution_count": 14,
   "metadata": {},
   "outputs": [],
   "source": [
    "clue_cards = list(clue_cards)\n",
    "p6_cards = set(clue_cards)\n",
    "clue_cards = None"
   ]
  },
  {
   "cell_type": "code",
   "execution_count": 15,
   "metadata": {},
   "outputs": [],
   "source": [
    "clue_cards"
   ]
  },
  {
   "cell_type": "code",
   "execution_count": 16,
   "metadata": {},
   "outputs": [
    {
     "data": {
      "text/plain": [
       "({'Billiard_Room', 'Knife', 'Library'},\n",
       " {'Ballroom', 'Lead Pipe', 'Study'},\n",
       " {'Dining_Room', 'Profesor Plum', 'Wrench'},\n",
       " {'Colonel Mustard', 'Conservatory', 'Revolver'},\n",
       " {'Kitchen', 'Lounge', 'Mr. Green'},\n",
       " {'Miss Scarlet', 'Mrs. Peacock', 'Rope'})"
      ]
     },
     "execution_count": 16,
     "metadata": {},
     "output_type": "execute_result"
    }
   ],
   "source": [
    "p1_cards,p2_cards,p3_cards,p4_cards,p5_cards,p6_cards"
   ]
  },
  {
   "cell_type": "markdown",
   "metadata": {},
   "source": [
    "Next we need to build a way to guess cards and see who has what clues. the user should be able to type in a room, suspect, and weapon, and then have those seqeuntially checked against the draws of the other players."
   ]
  },
  {
   "cell_type": "code",
   "execution_count": 17,
   "metadata": {},
   "outputs": [],
   "source": [
    "#make sure input is a valid member of the lists\n",
    "#check user input against each other player, going from low to high\n",
    "#if any of the user inputs are in the hand of a player, stop checking and show that card to the user\n",
    "#repeat above steps for each non human player\n",
    "#if no one has guessed correctly, play another round."
   ]
  },
  {
   "cell_type": "markdown",
   "metadata": {},
   "source": [
    "You are player 1"
   ]
  },
  {
   "cell_type": "code",
   "execution_count": 18,
   "metadata": {},
   "outputs": [
    {
     "name": "stdout",
     "output_type": "stream",
     "text": [
      "guess a suspectColonel Mustard\n",
      "guess a weaponLead Pipe\n",
      "guess a roomBallroom\n"
     ]
    }
   ],
   "source": [
    "suspect_guess = input(prompt=\"guess a suspect\").lower()\n",
    "weapon_guess = input(prompt=\"guess a weapon\").lower()\n",
    "room_guess = input(prompt=\"guess a room\").lower()"
   ]
  },
  {
   "cell_type": "code",
   "execution_count": 19,
   "metadata": {},
   "outputs": [],
   "source": [
    "l_suspects, l_weapons, l_rooms = ([x.lower() for x in suspects]\n",
    "                                  , [x.lower() for x in weapons]\n",
    "                                  , [x.lower() for x in rooms])"
   ]
  },
  {
   "cell_type": "code",
   "execution_count": 20,
   "metadata": {},
   "outputs": [
    {
     "data": {
      "text/plain": [
       "['rope', 'lead pipe', 'wrench', 'knife', 'revolver']"
      ]
     },
     "execution_count": 20,
     "metadata": {},
     "output_type": "execute_result"
    }
   ],
   "source": [
    "l_weapons"
   ]
  },
  {
   "cell_type": "code",
   "execution_count": 21,
   "metadata": {},
   "outputs": [
    {
     "data": {
      "text/plain": [
       "True"
      ]
     },
     "execution_count": 21,
     "metadata": {},
     "output_type": "execute_result"
    }
   ],
   "source": [
    "room_guess in l_rooms"
   ]
  },
  {
   "cell_type": "code",
   "execution_count": null,
   "metadata": {},
   "outputs": [],
   "source": []
  }
 ],
 "metadata": {
  "kernelspec": {
   "display_name": "Python 3",
   "language": "python",
   "name": "python3"
  },
  "language_info": {
   "codemirror_mode": {
    "name": "ipython",
    "version": 3
   },
   "file_extension": ".py",
   "mimetype": "text/x-python",
   "name": "python",
   "nbconvert_exporter": "python",
   "pygments_lexer": "ipython3",
   "version": "3.6.9"
  }
 },
 "nbformat": 4,
 "nbformat_minor": 2
}
