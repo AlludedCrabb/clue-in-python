{
 "cells": [
  {
   "cell_type": "markdown",
   "metadata": {},
   "source": [
    "Let's start by making the lists of the different clues"
   ]
  },
  {
   "cell_type": "code",
   "execution_count": 18,
   "metadata": {},
   "outputs": [],
   "source": [
    "suspects = [\"Colonel Mustard\", \"Profesor Plum\", \"Mr. Green\", \"Mrs. Peacock\", \"Miss Scarlet\", \"Mrs. White\"]\n",
    "weapons = [\"Knife\", \"Candlestick\", \"Revolver\", \"Rope\", \"Lead Pipe\", \"Wrench\"]\n",
    "rooms = \"Hall Lounge Dining_Room Kitchen Ballroom Conservatory Billiard_Room Library Study\".split()"
   ]
  },
  {
   "cell_type": "code",
   "execution_count": 19,
   "metadata": {},
   "outputs": [
    {
     "data": {
      "text/plain": [
       "(['Colonel Mustard',\n",
       "  'Profesor Plum',\n",
       "  'Mr. Green',\n",
       "  'Mrs. Peacock',\n",
       "  'Miss Scarlet',\n",
       "  'Mrs. White'],\n",
       " ['Knife', 'Candlestick', 'Revolver', 'Rope', 'Lead Pipe', 'Wrench'],\n",
       " ['Hall',\n",
       "  'Lounge',\n",
       "  'Dining_Room',\n",
       "  'Kitchen',\n",
       "  'Ballroom',\n",
       "  'Conservatory',\n",
       "  'Billiard_Room',\n",
       "  'Library',\n",
       "  'Study'])"
      ]
     },
     "execution_count": 19,
     "metadata": {},
     "output_type": "execute_result"
    }
   ],
   "source": [
    "suspects, weapons, rooms"
   ]
  },
  {
   "cell_type": "markdown",
   "metadata": {},
   "source": [
    "Now we need to select one from each list to create our murder situation"
   ]
  },
  {
   "cell_type": "code",
   "execution_count": 20,
   "metadata": {},
   "outputs": [],
   "source": [
    "import numpy as np"
   ]
  },
  {
   "cell_type": "code",
   "execution_count": 21,
   "metadata": {},
   "outputs": [],
   "source": [
    "nch = np.random.choice\n",
    "murder_sitch = [nch(suspects), nch(weapons), nch(rooms)]"
   ]
  },
  {
   "cell_type": "code",
   "execution_count": 22,
   "metadata": {},
   "outputs": [
    {
     "data": {
      "text/plain": [
       "{'Lead Pipe', 'Lounge', 'Miss Scarlet'}"
      ]
     },
     "execution_count": 22,
     "metadata": {},
     "output_type": "execute_result"
    }
   ],
   "source": [
    "murder_sitch = set(murder_sitch)\n",
    "murder_sitch"
   ]
  },
  {
   "cell_type": "markdown",
   "metadata": {},
   "source": [
    "Ok, now we need to remove the incriminating cards from the available clues"
   ]
  },
  {
   "cell_type": "code",
   "execution_count": 23,
   "metadata": {},
   "outputs": [],
   "source": [
    "suspects = set(suspects)\n",
    "weapons = set(weapons)\n",
    "rooms = set(rooms)"
   ]
  },
  {
   "cell_type": "code",
   "execution_count": 24,
   "metadata": {},
   "outputs": [],
   "source": [
    "suspects -= murder_sitch\n",
    "weapons -= murder_sitch\n",
    "rooms -= murder_sitch"
   ]
  },
  {
   "cell_type": "markdown",
   "metadata": {},
   "source": [
    "Now we need to make 6 players and give them cards"
   ]
  },
  {
   "cell_type": "code",
   "execution_count": 25,
   "metadata": {},
   "outputs": [
    {
     "data": {
      "text/plain": [
       "18"
      ]
     },
     "execution_count": 25,
     "metadata": {},
     "output_type": "execute_result"
    }
   ],
   "source": [
    "clue_cards = list(suspects | weapons |rooms)\n",
    "len(clue_cards)"
   ]
  },
  {
   "cell_type": "code",
   "execution_count": 26,
   "metadata": {},
   "outputs": [],
   "source": [
    "p1_cards = set(nch(clue_cards, size=3, replace=False))\n",
    "clue_cards = set(clue_cards)\n",
    "clue_cards -= p1_cards"
   ]
  },
  {
   "cell_type": "code",
   "execution_count": 27,
   "metadata": {},
   "outputs": [],
   "source": [
    "clue_cards = list(clue_cards)\n",
    "p2_cards = set(nch(clue_cards, size=3, replace=False))\n",
    "clue_cards = set(clue_cards)\n",
    "clue_cards -= p2_cards"
   ]
  },
  {
   "cell_type": "code",
   "execution_count": 28,
   "metadata": {},
   "outputs": [],
   "source": [
    "clue_cards = list(clue_cards)\n",
    "p3_cards = set(nch(clue_cards, size=3, replace=False))\n",
    "clue_cards = set(clue_cards)\n",
    "clue_cards -= p3_cards"
   ]
  },
  {
   "cell_type": "code",
   "execution_count": 29,
   "metadata": {},
   "outputs": [],
   "source": [
    "clue_cards = list(clue_cards)\n",
    "p4_cards = set(nch(clue_cards, size=3, replace=False))\n",
    "clue_cards = set(clue_cards)\n",
    "clue_cards -= p4_cards"
   ]
  },
  {
   "cell_type": "code",
   "execution_count": 30,
   "metadata": {},
   "outputs": [],
   "source": [
    "clue_cards = list(clue_cards)\n",
    "p5_cards = set(nch(clue_cards, size=3, replace = False))\n",
    "clue_cards = set(clue_cards)\n",
    "clue_cards -= p5_cards"
   ]
  },
  {
   "cell_type": "code",
   "execution_count": 31,
   "metadata": {},
   "outputs": [],
   "source": [
    "clue_cards = list(clue_cards)\n",
    "p6_cards = set(clue_cards)\n",
    "clue_cards = None"
   ]
  },
  {
   "cell_type": "code",
   "execution_count": 32,
   "metadata": {},
   "outputs": [],
   "source": [
    "clue_cards"
   ]
  },
  {
   "cell_type": "code",
   "execution_count": 33,
   "metadata": {},
   "outputs": [
    {
     "data": {
      "text/plain": [
       "({'Knife', 'Mrs. White', 'Study'},\n",
       " {'Candlestick', 'Conservatory', 'Profesor Plum'},\n",
       " {'Ballroom', 'Kitchen', 'Mrs. Peacock'},\n",
       " {'Billiard_Room', 'Mr. Green', 'Wrench'},\n",
       " {'Colonel Mustard', 'Library', 'Revolver'},\n",
       " {'Dining_Room', 'Hall', 'Rope'})"
      ]
     },
     "execution_count": 33,
     "metadata": {},
     "output_type": "execute_result"
    }
   ],
   "source": [
    "p1_cards,p2_cards,p3_cards,p4_cards,p5_cards,p6_cards"
   ]
  },
  {
   "cell_type": "markdown",
   "metadata": {},
   "source": [
    "Next we need to build a way to guess cards and see who has what clues. the user should be able to type in a room, suspect, and weapon, and then have those seqeuntially checked against the draws of the other players."
   ]
  },
  {
   "cell_type": "code",
   "execution_count": 34,
   "metadata": {},
   "outputs": [],
   "source": [
    "#get user input for each of suspect, weapon, and room\n",
    "#check user input against each other player, going from low to high\n",
    "#if any of the user inputs are in the hand of a player, stop checking and show that card to the user\n",
    "#repeat above steps for each non human player\n",
    "#if no one has guessed correctly, play another round."
   ]
  }
 ],
 "metadata": {
  "kernelspec": {
   "display_name": "Python 3",
   "language": "python",
   "name": "python3"
  },
  "language_info": {
   "codemirror_mode": {
    "name": "ipython",
    "version": 3
   },
   "file_extension": ".py",
   "mimetype": "text/x-python",
   "name": "python",
   "nbconvert_exporter": "python",
   "pygments_lexer": "ipython3",
   "version": "3.6.9"
  }
 },
 "nbformat": 4,
 "nbformat_minor": 2
}
