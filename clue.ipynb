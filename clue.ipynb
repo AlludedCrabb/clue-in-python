{
 "cells": [
  {
   "cell_type": "markdown",
   "metadata": {},
   "source": [
    "Let's start by making the lists of the different clues"
   ]
  },
  {
   "cell_type": "code",
   "execution_count": 1,
   "metadata": {},
   "outputs": [],
   "source": [
    "suspects = [\"Colonel Mustard\", \"Profesor Plum\", \"Mr. Green\", \"Mrs. Peacock\", \"Miss Scarlet\", \"Mrs. White\"]\n",
    "weapons = [\"Knife\", \"Candlestick\", \"Revolver\", \"Rope\", \"Lead Pipe\", \"Wrench\"]\n",
    "rooms = \"Hall Lounge Dining_Room Kitchen Ballroom Conservatory Billiard_Room Library Study\".split()"
   ]
  },
  {
   "cell_type": "markdown",
   "metadata": {},
   "source": [
    "making these lists lowercase will help with error handling down the road`"
   ]
  },
  {
   "cell_type": "code",
   "execution_count": 2,
   "metadata": {},
   "outputs": [],
   "source": [
    "suspects, weapons, rooms =  ([x.lower() for x in suspects]\n",
    "                            ,[x.lower() for x in weapons]\n",
    "                            ,[x.lower() for x in rooms])\n"
   ]
  },
  {
   "cell_type": "markdown",
   "metadata": {},
   "source": [
    "Now we need to select one from each list to create our murder situation"
   ]
  },
  {
   "cell_type": "code",
   "execution_count": 3,
   "metadata": {},
   "outputs": [],
   "source": [
    "import numpy as np"
   ]
  },
  {
   "cell_type": "code",
   "execution_count": 4,
   "metadata": {},
   "outputs": [],
   "source": [
    "nch = np.random.choice\n",
    "murder_sitch = [nch(suspects), nch(weapons), nch(rooms)]"
   ]
  },
  {
   "cell_type": "code",
   "execution_count": 5,
   "metadata": {},
   "outputs": [
    {
     "data": {
      "text/plain": [
       "{'dining_room', 'mrs. peacock', 'rope'}"
      ]
     },
     "execution_count": 5,
     "metadata": {},
     "output_type": "execute_result"
    }
   ],
   "source": [
    "murder_sitch = set(murder_sitch)\n",
    "murder_sitch"
   ]
  },
  {
   "cell_type": "markdown",
   "metadata": {},
   "source": [
    "Ok, now we need to remove the incriminating cards from the available clues"
   ]
  },
  {
   "cell_type": "code",
   "execution_count": 6,
   "metadata": {},
   "outputs": [],
   "source": [
    "suspects = set(suspects)\n",
    "weapons = set(weapons)\n",
    "rooms = set(rooms)"
   ]
  },
  {
   "cell_type": "code",
   "execution_count": 7,
   "metadata": {},
   "outputs": [],
   "source": [
    "suspects -= murder_sitch\n",
    "weapons -= murder_sitch\n",
    "rooms -= murder_sitch"
   ]
  },
  {
   "cell_type": "markdown",
   "metadata": {},
   "source": [
    "Now we need to make 6 players and give them cards"
   ]
  },
  {
   "cell_type": "code",
   "execution_count": 8,
   "metadata": {},
   "outputs": [
    {
     "data": {
      "text/plain": [
       "18"
      ]
     },
     "execution_count": 8,
     "metadata": {},
     "output_type": "execute_result"
    }
   ],
   "source": [
    "clue_cards = list(suspects | weapons |rooms)\n",
    "len(clue_cards)"
   ]
  },
  {
   "cell_type": "code",
   "execution_count": 9,
   "metadata": {},
   "outputs": [],
   "source": [
    "p1_cards = set(nch(clue_cards, size=3, replace=False))\n",
    "clue_cards = set(clue_cards)\n",
    "clue_cards -= p1_cards"
   ]
  },
  {
   "cell_type": "code",
   "execution_count": 10,
   "metadata": {},
   "outputs": [],
   "source": [
    "clue_cards = list(clue_cards)\n",
    "p2_cards = set(nch(clue_cards, size=3, replace=False))\n",
    "clue_cards = set(clue_cards)\n",
    "clue_cards -= p2_cards"
   ]
  },
  {
   "cell_type": "code",
   "execution_count": 11,
   "metadata": {},
   "outputs": [],
   "source": [
    "clue_cards = list(clue_cards)\n",
    "p3_cards = set(nch(clue_cards, size=3, replace=False))\n",
    "clue_cards = set(clue_cards)\n",
    "clue_cards -= p3_cards"
   ]
  },
  {
   "cell_type": "code",
   "execution_count": 12,
   "metadata": {},
   "outputs": [],
   "source": [
    "clue_cards = list(clue_cards)\n",
    "p4_cards = set(nch(clue_cards, size=3, replace=False))\n",
    "clue_cards = set(clue_cards)\n",
    "clue_cards -= p4_cards"
   ]
  },
  {
   "cell_type": "code",
   "execution_count": 13,
   "metadata": {},
   "outputs": [],
   "source": [
    "clue_cards = list(clue_cards)\n",
    "p5_cards = set(nch(clue_cards, size=3, replace = False))\n",
    "clue_cards = set(clue_cards)\n",
    "clue_cards -= p5_cards"
   ]
  },
  {
   "cell_type": "code",
   "execution_count": 14,
   "metadata": {},
   "outputs": [],
   "source": [
    "clue_cards = list(clue_cards)\n",
    "p6_cards = set(clue_cards)\n",
    "clue_cards = None"
   ]
  },
  {
   "cell_type": "code",
   "execution_count": 15,
   "metadata": {},
   "outputs": [],
   "source": [
    "clue_cards"
   ]
  },
  {
   "cell_type": "code",
   "execution_count": 16,
   "metadata": {},
   "outputs": [
    {
     "data": {
      "text/plain": [
       "({'kitchen', 'lead pipe', 'study'},\n",
       " {'mr. green', 'mrs. white', 'profesor plum'},\n",
       " {'candlestick', 'hall', 'lounge'},\n",
       " {'ballroom', 'billiard_room', 'conservatory'},\n",
       " {'colonel mustard', 'library', 'wrench'},\n",
       " {'knife', 'miss scarlet', 'revolver'})"
      ]
     },
     "execution_count": 16,
     "metadata": {},
     "output_type": "execute_result"
    }
   ],
   "source": [
    "p1_cards,p2_cards,p3_cards,p4_cards,p5_cards,p6_cards"
   ]
  },
  {
   "cell_type": "markdown",
   "metadata": {},
   "source": [
    "Next we need to build a way to guess cards and see who has what clues. the user should be able to type in a room, suspect, and weapon, and then have those seqeuntially checked against the draws of the other players."
   ]
  },
  {
   "cell_type": "markdown",
   "metadata": {},
   "source": [
    "You are player 1"
   ]
  },
  {
   "cell_type": "code",
   "execution_count": 41,
   "metadata": {},
   "outputs": [],
   "source": [
    "def make_guess():\n",
    "    suspect_guess = input(prompt=\"guess a suspect \").lower()\n",
    "    weapon_guess = input(prompt=\"guess a weapon \").lower()\n",
    "    room_guess = input(prompt=\"guess a room \").lower()\n",
    "    \n",
    "    p1_guess = set([suspect_guess, weapon_guess, room_guess])\n",
    "    card_corpus = suspects | weapons | rooms | murder_sitch\n",
    "    \n",
    "    if len(p1_guess & card_corpus) == 3:\n",
    "        \n",
    "        \n",
    "        for ind_cards in [p2_cards,p3_cards,p4_cards,p5_cards,p6_cards]:\n",
    "            if len(p1_guess & ind_cards) > 0:\n",
    "                print(nch(list(p1_guess & ind_cards)))\n",
    "                break\n",
    "        if p1_guess == murder_sitch:\n",
    "            print('winner winner chicken dinner!')\n",
    "    else:\n",
    "        print(\"an input was incorrect, please try again\")"
   ]
  },
  {
   "cell_type": "code",
   "execution_count": 42,
   "metadata": {},
   "outputs": [
    {
     "name": "stdout",
     "output_type": "stream",
     "text": [
      "guess a suspect mrs. peacock\n",
      "guess a weapon rope\n",
      "guess a room dining_room\n",
      "winner winner chicken dinner!\n"
     ]
    }
   ],
   "source": [
    "make_guess()"
   ]
  },
  {
   "cell_type": "markdown",
   "metadata": {},
   "source": [
    "The next step is to replicate the above function but for each player so that everyone gets a guess, and to create lists of clues that you've seen and who revealed each card to you. It would also be nice to include different threshholds for the other plays to make accusations and maybe beat you at the game. Also building a probability display for your guess based off of what clues you've aquired would be awesome."
   ]
  }
 ],
 "metadata": {
  "kernelspec": {
   "display_name": "Python 3",
   "language": "python",
   "name": "python3"
  },
  "language_info": {
   "codemirror_mode": {
    "name": "ipython",
    "version": 3
   },
   "file_extension": ".py",
   "mimetype": "text/x-python",
   "name": "python",
   "nbconvert_exporter": "python",
   "pygments_lexer": "ipython3",
   "version": "3.6.9"
  }
 },
 "nbformat": 4,
 "nbformat_minor": 2
}
